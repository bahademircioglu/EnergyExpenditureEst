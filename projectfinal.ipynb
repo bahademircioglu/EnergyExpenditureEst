{
 "cells": [
  {
   "cell_type": "code",
   "execution_count": 1,
   "metadata": {},
   "outputs": [],
   "source": [
    "from scipy.io import arff\n",
    "import numpy as np\n",
    "import pandas as pd\n",
    "from sklearn.model_selection import train_test_split\n",
    "#to split data for train and test\n",
    "from sklearn.linear_model import LinearRegression\n",
    "from sklearn.linear_model import RANSACRegressor\n",
    "#(RANdom SAmple Consensus) algorithm.~rastgele örneklerin benzerliği üstüne-robust\n",
    "from sklearn.linear_model import TheilSenRegressor\n",
    "#Theil-Sen Estimator: robust multivariate regression model-çok değişkenli regresyon modeli\n",
    "#from sklearn.linear_model import SGDRegressor\n",
    "#SGD's results are terrible. So commented them.\n",
    "import matplotlib.pyplot as plt\n",
    "#visualization\n",
    "import seaborn as sns\n",
    "#another visiualization\n",
    "from sklearn import metrics\n",
    "#to see memory usage"
   ]
  },
  {
   "cell_type": "code",
   "execution_count": 2,
   "metadata": {},
   "outputs": [],
   "source": [
    "#couldnt get it done in loop so did it one by one\n",
    "#i=0\n",
    "#while i<10:\n",
    "#    data[i]=arff.loadarff([i]+'.arff')\n",
    "#    df[i]=pd.DataFrame(data[i][0])\n",
    "#    i+=1\n",
    "\n",
    "data0=arff.loadarff('0.arff')\n",
    "df0=pd.DataFrame(data0[0])\n",
    "data1=arff.loadarff('1.arff')\n",
    "df1=pd.DataFrame(data1[0])\n",
    "data2=arff.loadarff('2.arff')\n",
    "df2=pd.DataFrame(data2[0])\n",
    "data3=arff.loadarff('3.arff')\n",
    "df3=pd.DataFrame(data3[0])\n",
    "data4=arff.loadarff('4.arff')\n",
    "df4=pd.DataFrame(data4[0])\n",
    "data5=arff.loadarff('5.arff')\n",
    "df5=pd.DataFrame(data5[0])\n",
    "data6=arff.loadarff('6.arff')\n",
    "df6=pd.DataFrame(data6[0])\n",
    "data7=arff.loadarff('7.arff')\n",
    "df7=pd.DataFrame(data7[0])\n",
    "data8=arff.loadarff('8.arff')\n",
    "df8=pd.DataFrame(data8[0])\n",
    "data9=arff.loadarff('9.arff')\n",
    "df9=pd.DataFrame(data9[0])\n"
   ]
  },
  {
   "cell_type": "code",
   "execution_count": 3,
   "metadata": {},
   "outputs": [],
   "source": [
    "frames=[df1, df2, df3, df4, df5, df6, df7, df8, df9] #geçici dfleri list halinde frame'e atıyoruz\n",
    "df=pd.concat(frames, ignore_index=True) #bu framelerden son olarak bütün dataları içeren df'i oluşturuyoruz"
   ]
  },
  {
   "cell_type": "code",
   "execution_count": 4,
   "metadata": {
    "scrolled": true
   },
   "outputs": [
    {
     "data": {
      "text/html": [
       "<div>\n",
       "<style scoped>\n",
       "    .dataframe tbody tr th:only-of-type {\n",
       "        vertical-align: middle;\n",
       "    }\n",
       "\n",
       "    .dataframe tbody tr th {\n",
       "        vertical-align: top;\n",
       "    }\n",
       "\n",
       "    .dataframe thead th {\n",
       "        text-align: right;\n",
       "    }\n",
       "</style>\n",
       "<table border=\"1\" class=\"dataframe\">\n",
       "  <thead>\n",
       "    <tr style=\"text-align: right;\">\n",
       "      <th></th>\n",
       "      <th>pred_Activity</th>\n",
       "      <th>peakCount</th>\n",
       "      <th>Z_breathRate</th>\n",
       "      <th>Z_heartRate</th>\n",
       "      <th>Z_skinTemp</th>\n",
       "      <th>SW_GSR</th>\n",
       "      <th>SW_NearBodyTemp</th>\n",
       "      <th>SW_skinTemp</th>\n",
       "      <th>cosmed</th>\n",
       "    </tr>\n",
       "  </thead>\n",
       "  <tbody>\n",
       "    <tr>\n",
       "      <th>0</th>\n",
       "      <td>b'lying'</td>\n",
       "      <td>92.0</td>\n",
       "      <td>16.490182</td>\n",
       "      <td>48.969195</td>\n",
       "      <td>10.0</td>\n",
       "      <td>10.097270</td>\n",
       "      <td>10.747776</td>\n",
       "      <td>11.063158</td>\n",
       "      <td>1.803177</td>\n",
       "    </tr>\n",
       "    <tr>\n",
       "      <th>1</th>\n",
       "      <td>b'lying'</td>\n",
       "      <td>81.0</td>\n",
       "      <td>16.790604</td>\n",
       "      <td>52.888637</td>\n",
       "      <td>10.0</td>\n",
       "      <td>10.097270</td>\n",
       "      <td>10.747776</td>\n",
       "      <td>11.063158</td>\n",
       "      <td>2.121443</td>\n",
       "    </tr>\n",
       "    <tr>\n",
       "      <th>2</th>\n",
       "      <td>b'walking'</td>\n",
       "      <td>97.0</td>\n",
       "      <td>16.733168</td>\n",
       "      <td>56.625628</td>\n",
       "      <td>10.0</td>\n",
       "      <td>10.097270</td>\n",
       "      <td>10.747776</td>\n",
       "      <td>11.063158</td>\n",
       "      <td>3.184779</td>\n",
       "    </tr>\n",
       "    <tr>\n",
       "      <th>3</th>\n",
       "      <td>b'walking'</td>\n",
       "      <td>111.0</td>\n",
       "      <td>15.728140</td>\n",
       "      <td>54.393795</td>\n",
       "      <td>10.0</td>\n",
       "      <td>10.097270</td>\n",
       "      <td>10.747776</td>\n",
       "      <td>11.063158</td>\n",
       "      <td>2.327770</td>\n",
       "    </tr>\n",
       "    <tr>\n",
       "      <th>4</th>\n",
       "      <td>b'walking'</td>\n",
       "      <td>100.0</td>\n",
       "      <td>12.135302</td>\n",
       "      <td>49.127372</td>\n",
       "      <td>10.0</td>\n",
       "      <td>10.097270</td>\n",
       "      <td>10.747776</td>\n",
       "      <td>11.063158</td>\n",
       "      <td>2.195212</td>\n",
       "    </tr>\n",
       "    <tr>\n",
       "      <th>...</th>\n",
       "      <td>...</td>\n",
       "      <td>...</td>\n",
       "      <td>...</td>\n",
       "      <td>...</td>\n",
       "      <td>...</td>\n",
       "      <td>...</td>\n",
       "      <td>...</td>\n",
       "      <td>...</td>\n",
       "      <td>...</td>\n",
       "    </tr>\n",
       "    <tr>\n",
       "      <th>5317</th>\n",
       "      <td>b'running'</td>\n",
       "      <td>78.0</td>\n",
       "      <td>30.801074</td>\n",
       "      <td>115.630183</td>\n",
       "      <td>8.0</td>\n",
       "      <td>12.059786</td>\n",
       "      <td>12.760415</td>\n",
       "      <td>13.764971</td>\n",
       "      <td>8.034513</td>\n",
       "    </tr>\n",
       "    <tr>\n",
       "      <th>5318</th>\n",
       "      <td>b'running'</td>\n",
       "      <td>64.0</td>\n",
       "      <td>27.077697</td>\n",
       "      <td>114.928049</td>\n",
       "      <td>8.0</td>\n",
       "      <td>12.059786</td>\n",
       "      <td>12.760415</td>\n",
       "      <td>13.764971</td>\n",
       "      <td>8.611814</td>\n",
       "    </tr>\n",
       "    <tr>\n",
       "      <th>5319</th>\n",
       "      <td>b'running'</td>\n",
       "      <td>66.0</td>\n",
       "      <td>26.460689</td>\n",
       "      <td>116.620075</td>\n",
       "      <td>9.0</td>\n",
       "      <td>12.059786</td>\n",
       "      <td>12.760415</td>\n",
       "      <td>13.764971</td>\n",
       "      <td>8.115253</td>\n",
       "    </tr>\n",
       "    <tr>\n",
       "      <th>5320</th>\n",
       "      <td>b'running'</td>\n",
       "      <td>60.0</td>\n",
       "      <td>26.375527</td>\n",
       "      <td>111.890192</td>\n",
       "      <td>9.0</td>\n",
       "      <td>12.059786</td>\n",
       "      <td>12.760415</td>\n",
       "      <td>13.764971</td>\n",
       "      <td>8.331000</td>\n",
       "    </tr>\n",
       "    <tr>\n",
       "      <th>5321</th>\n",
       "      <td>b'running'</td>\n",
       "      <td>74.0</td>\n",
       "      <td>24.280017</td>\n",
       "      <td>106.973655</td>\n",
       "      <td>9.0</td>\n",
       "      <td>12.059786</td>\n",
       "      <td>12.760415</td>\n",
       "      <td>13.764971</td>\n",
       "      <td>8.794428</td>\n",
       "    </tr>\n",
       "  </tbody>\n",
       "</table>\n",
       "<p>5322 rows × 9 columns</p>\n",
       "</div>"
      ],
      "text/plain": [
       "     pred_Activity  peakCount  Z_breathRate  Z_heartRate  Z_skinTemp  \\\n",
       "0         b'lying'       92.0     16.490182    48.969195        10.0   \n",
       "1         b'lying'       81.0     16.790604    52.888637        10.0   \n",
       "2       b'walking'       97.0     16.733168    56.625628        10.0   \n",
       "3       b'walking'      111.0     15.728140    54.393795        10.0   \n",
       "4       b'walking'      100.0     12.135302    49.127372        10.0   \n",
       "...            ...        ...           ...          ...         ...   \n",
       "5317    b'running'       78.0     30.801074   115.630183         8.0   \n",
       "5318    b'running'       64.0     27.077697   114.928049         8.0   \n",
       "5319    b'running'       66.0     26.460689   116.620075         9.0   \n",
       "5320    b'running'       60.0     26.375527   111.890192         9.0   \n",
       "5321    b'running'       74.0     24.280017   106.973655         9.0   \n",
       "\n",
       "         SW_GSR  SW_NearBodyTemp  SW_skinTemp    cosmed  \n",
       "0     10.097270        10.747776    11.063158  1.803177  \n",
       "1     10.097270        10.747776    11.063158  2.121443  \n",
       "2     10.097270        10.747776    11.063158  3.184779  \n",
       "3     10.097270        10.747776    11.063158  2.327770  \n",
       "4     10.097270        10.747776    11.063158  2.195212  \n",
       "...         ...              ...          ...       ...  \n",
       "5317  12.059786        12.760415    13.764971  8.034513  \n",
       "5318  12.059786        12.760415    13.764971  8.611814  \n",
       "5319  12.059786        12.760415    13.764971  8.115253  \n",
       "5320  12.059786        12.760415    13.764971  8.331000  \n",
       "5321  12.059786        12.760415    13.764971  8.794428  \n",
       "\n",
       "[5322 rows x 9 columns]"
      ]
     },
     "execution_count": 4,
     "metadata": {},
     "output_type": "execute_result"
    }
   ],
   "source": [
    "df"
   ]
  },
  {
   "cell_type": "code",
   "execution_count": 5,
   "metadata": {
    "scrolled": true
   },
   "outputs": [],
   "source": [
    "df['pred_Activity'] = df['pred_Activity'].str.decode('utf-8')\n",
    "#no error for multilanguage"
   ]
  },
  {
   "cell_type": "code",
   "execution_count": 6,
   "metadata": {
    "scrolled": true
   },
   "outputs": [
    {
     "data": {
      "text/plain": [
       "0.252066"
      ]
     },
     "execution_count": 6,
     "metadata": {},
     "output_type": "execute_result"
    }
   ],
   "source": [
    "df.cosmed.min()"
   ]
  },
  {
   "cell_type": "code",
   "execution_count": 7,
   "metadata": {
    "scrolled": true
   },
   "outputs": [
    {
     "data": {
      "text/plain": [
       "lying               1141\n",
       "sitting              821\n",
       "walking              803\n",
       "standing             710\n",
       "cycling              489\n",
       "kneeling             373\n",
       "allfours             371\n",
       "standing_leaning     220\n",
       "running              208\n",
       "transition           186\n",
       "Name: pred_Activity, dtype: int64"
      ]
     },
     "execution_count": 7,
     "metadata": {},
     "output_type": "execute_result"
    }
   ],
   "source": [
    "df.pred_Activity.value_counts()#spesifik kolunda neyden kaç tane var"
   ]
  },
  {
   "cell_type": "code",
   "execution_count": 8,
   "metadata": {},
   "outputs": [],
   "source": [
    "dummies = pd.get_dummies(df.pred_Activity, drop_first=True)\n",
    "#one hot encoding, drop_first true ile gereksiz 1 sütundan kurtuluyoruz"
   ]
  },
  {
   "cell_type": "code",
   "execution_count": 9,
   "metadata": {},
   "outputs": [
    {
     "data": {
      "text/html": [
       "<div>\n",
       "<style scoped>\n",
       "    .dataframe tbody tr th:only-of-type {\n",
       "        vertical-align: middle;\n",
       "    }\n",
       "\n",
       "    .dataframe tbody tr th {\n",
       "        vertical-align: top;\n",
       "    }\n",
       "\n",
       "    .dataframe thead th {\n",
       "        text-align: right;\n",
       "    }\n",
       "</style>\n",
       "<table border=\"1\" class=\"dataframe\">\n",
       "  <thead>\n",
       "    <tr style=\"text-align: right;\">\n",
       "      <th></th>\n",
       "      <th>cycling</th>\n",
       "      <th>kneeling</th>\n",
       "      <th>lying</th>\n",
       "      <th>running</th>\n",
       "      <th>sitting</th>\n",
       "      <th>standing</th>\n",
       "      <th>standing_leaning</th>\n",
       "      <th>transition</th>\n",
       "      <th>walking</th>\n",
       "    </tr>\n",
       "  </thead>\n",
       "  <tbody>\n",
       "    <tr>\n",
       "      <th>0</th>\n",
       "      <td>0</td>\n",
       "      <td>0</td>\n",
       "      <td>1</td>\n",
       "      <td>0</td>\n",
       "      <td>0</td>\n",
       "      <td>0</td>\n",
       "      <td>0</td>\n",
       "      <td>0</td>\n",
       "      <td>0</td>\n",
       "    </tr>\n",
       "    <tr>\n",
       "      <th>1</th>\n",
       "      <td>0</td>\n",
       "      <td>0</td>\n",
       "      <td>1</td>\n",
       "      <td>0</td>\n",
       "      <td>0</td>\n",
       "      <td>0</td>\n",
       "      <td>0</td>\n",
       "      <td>0</td>\n",
       "      <td>0</td>\n",
       "    </tr>\n",
       "    <tr>\n",
       "      <th>2</th>\n",
       "      <td>0</td>\n",
       "      <td>0</td>\n",
       "      <td>0</td>\n",
       "      <td>0</td>\n",
       "      <td>0</td>\n",
       "      <td>0</td>\n",
       "      <td>0</td>\n",
       "      <td>0</td>\n",
       "      <td>1</td>\n",
       "    </tr>\n",
       "    <tr>\n",
       "      <th>3</th>\n",
       "      <td>0</td>\n",
       "      <td>0</td>\n",
       "      <td>0</td>\n",
       "      <td>0</td>\n",
       "      <td>0</td>\n",
       "      <td>0</td>\n",
       "      <td>0</td>\n",
       "      <td>0</td>\n",
       "      <td>1</td>\n",
       "    </tr>\n",
       "    <tr>\n",
       "      <th>4</th>\n",
       "      <td>0</td>\n",
       "      <td>0</td>\n",
       "      <td>0</td>\n",
       "      <td>0</td>\n",
       "      <td>0</td>\n",
       "      <td>0</td>\n",
       "      <td>0</td>\n",
       "      <td>0</td>\n",
       "      <td>1</td>\n",
       "    </tr>\n",
       "    <tr>\n",
       "      <th>...</th>\n",
       "      <td>...</td>\n",
       "      <td>...</td>\n",
       "      <td>...</td>\n",
       "      <td>...</td>\n",
       "      <td>...</td>\n",
       "      <td>...</td>\n",
       "      <td>...</td>\n",
       "      <td>...</td>\n",
       "      <td>...</td>\n",
       "    </tr>\n",
       "    <tr>\n",
       "      <th>5317</th>\n",
       "      <td>0</td>\n",
       "      <td>0</td>\n",
       "      <td>0</td>\n",
       "      <td>1</td>\n",
       "      <td>0</td>\n",
       "      <td>0</td>\n",
       "      <td>0</td>\n",
       "      <td>0</td>\n",
       "      <td>0</td>\n",
       "    </tr>\n",
       "    <tr>\n",
       "      <th>5318</th>\n",
       "      <td>0</td>\n",
       "      <td>0</td>\n",
       "      <td>0</td>\n",
       "      <td>1</td>\n",
       "      <td>0</td>\n",
       "      <td>0</td>\n",
       "      <td>0</td>\n",
       "      <td>0</td>\n",
       "      <td>0</td>\n",
       "    </tr>\n",
       "    <tr>\n",
       "      <th>5319</th>\n",
       "      <td>0</td>\n",
       "      <td>0</td>\n",
       "      <td>0</td>\n",
       "      <td>1</td>\n",
       "      <td>0</td>\n",
       "      <td>0</td>\n",
       "      <td>0</td>\n",
       "      <td>0</td>\n",
       "      <td>0</td>\n",
       "    </tr>\n",
       "    <tr>\n",
       "      <th>5320</th>\n",
       "      <td>0</td>\n",
       "      <td>0</td>\n",
       "      <td>0</td>\n",
       "      <td>1</td>\n",
       "      <td>0</td>\n",
       "      <td>0</td>\n",
       "      <td>0</td>\n",
       "      <td>0</td>\n",
       "      <td>0</td>\n",
       "    </tr>\n",
       "    <tr>\n",
       "      <th>5321</th>\n",
       "      <td>0</td>\n",
       "      <td>0</td>\n",
       "      <td>0</td>\n",
       "      <td>1</td>\n",
       "      <td>0</td>\n",
       "      <td>0</td>\n",
       "      <td>0</td>\n",
       "      <td>0</td>\n",
       "      <td>0</td>\n",
       "    </tr>\n",
       "  </tbody>\n",
       "</table>\n",
       "<p>5322 rows × 9 columns</p>\n",
       "</div>"
      ],
      "text/plain": [
       "      cycling  kneeling  lying  running  sitting  standing  standing_leaning  \\\n",
       "0           0         0      1        0        0         0                 0   \n",
       "1           0         0      1        0        0         0                 0   \n",
       "2           0         0      0        0        0         0                 0   \n",
       "3           0         0      0        0        0         0                 0   \n",
       "4           0         0      0        0        0         0                 0   \n",
       "...       ...       ...    ...      ...      ...       ...               ...   \n",
       "5317        0         0      0        1        0         0                 0   \n",
       "5318        0         0      0        1        0         0                 0   \n",
       "5319        0         0      0        1        0         0                 0   \n",
       "5320        0         0      0        1        0         0                 0   \n",
       "5321        0         0      0        1        0         0                 0   \n",
       "\n",
       "      transition  walking  \n",
       "0              0        0  \n",
       "1              0        0  \n",
       "2              0        1  \n",
       "3              0        1  \n",
       "4              0        1  \n",
       "...          ...      ...  \n",
       "5317           0        0  \n",
       "5318           0        0  \n",
       "5319           0        0  \n",
       "5320           0        0  \n",
       "5321           0        0  \n",
       "\n",
       "[5322 rows x 9 columns]"
      ]
     },
     "execution_count": 9,
     "metadata": {},
     "output_type": "execute_result"
    }
   ],
   "source": [
    "dummies"
   ]
  },
  {
   "cell_type": "code",
   "execution_count": 10,
   "metadata": {},
   "outputs": [],
   "source": [
    "df.drop('pred_Activity',axis=1,inplace=True)\n",
    "#dismiss the non number values"
   ]
  },
  {
   "cell_type": "code",
   "execution_count": 11,
   "metadata": {},
   "outputs": [],
   "source": [
    "df=df.join(dummies)\n",
    "#use these numeric values instead of those not"
   ]
  },
  {
   "cell_type": "code",
   "execution_count": 12,
   "metadata": {
    "scrolled": true
   },
   "outputs": [
    {
     "name": "stdout",
     "output_type": "stream",
     "text": [
      "<class 'pandas.core.frame.DataFrame'>\n",
      "RangeIndex: 5322 entries, 0 to 5321\n",
      "Data columns (total 17 columns):\n",
      " #   Column            Non-Null Count  Dtype  \n",
      "---  ------            --------------  -----  \n",
      " 0   peakCount         5322 non-null   float64\n",
      " 1   Z_breathRate      5322 non-null   float64\n",
      " 2   Z_heartRate       5322 non-null   float64\n",
      " 3   Z_skinTemp        5322 non-null   float64\n",
      " 4   SW_GSR            5322 non-null   float64\n",
      " 5   SW_NearBodyTemp   5322 non-null   float64\n",
      " 6   SW_skinTemp       5322 non-null   float64\n",
      " 7   cosmed            5322 non-null   float64\n",
      " 8   cycling           5322 non-null   uint8  \n",
      " 9   kneeling          5322 non-null   uint8  \n",
      " 10  lying             5322 non-null   uint8  \n",
      " 11  running           5322 non-null   uint8  \n",
      " 12  sitting           5322 non-null   uint8  \n",
      " 13  standing          5322 non-null   uint8  \n",
      " 14  standing_leaning  5322 non-null   uint8  \n",
      " 15  transition        5322 non-null   uint8  \n",
      " 16  walking           5322 non-null   uint8  \n",
      "dtypes: float64(8), uint8(9)\n",
      "memory usage: 379.5 KB\n"
     ]
    }
   ],
   "source": [
    "df.info()"
   ]
  },
  {
   "cell_type": "code",
   "execution_count": 13,
   "metadata": {},
   "outputs": [
    {
     "data": {
      "text/html": [
       "<div>\n",
       "<style scoped>\n",
       "    .dataframe tbody tr th:only-of-type {\n",
       "        vertical-align: middle;\n",
       "    }\n",
       "\n",
       "    .dataframe tbody tr th {\n",
       "        vertical-align: top;\n",
       "    }\n",
       "\n",
       "    .dataframe thead th {\n",
       "        text-align: right;\n",
       "    }\n",
       "</style>\n",
       "<table border=\"1\" class=\"dataframe\">\n",
       "  <thead>\n",
       "    <tr style=\"text-align: right;\">\n",
       "      <th></th>\n",
       "      <th>peakCount</th>\n",
       "      <th>Z_breathRate</th>\n",
       "      <th>Z_heartRate</th>\n",
       "      <th>Z_skinTemp</th>\n",
       "      <th>SW_GSR</th>\n",
       "      <th>SW_NearBodyTemp</th>\n",
       "      <th>SW_skinTemp</th>\n",
       "      <th>cosmed</th>\n",
       "      <th>cycling</th>\n",
       "      <th>kneeling</th>\n",
       "      <th>lying</th>\n",
       "      <th>running</th>\n",
       "      <th>sitting</th>\n",
       "      <th>standing</th>\n",
       "      <th>standing_leaning</th>\n",
       "      <th>transition</th>\n",
       "      <th>walking</th>\n",
       "    </tr>\n",
       "  </thead>\n",
       "  <tbody>\n",
       "    <tr>\n",
       "      <th>count</th>\n",
       "      <td>5322.000000</td>\n",
       "      <td>5322.000000</td>\n",
       "      <td>5322.000000</td>\n",
       "      <td>5322.000000</td>\n",
       "      <td>5322.000000</td>\n",
       "      <td>5322.000000</td>\n",
       "      <td>5322.000000</td>\n",
       "      <td>5322.000000</td>\n",
       "      <td>5322.000000</td>\n",
       "      <td>5322.000000</td>\n",
       "      <td>5322.000000</td>\n",
       "      <td>5322.000000</td>\n",
       "      <td>5322.000000</td>\n",
       "      <td>5322.000000</td>\n",
       "      <td>5322.000000</td>\n",
       "      <td>5322.000000</td>\n",
       "      <td>5322.000000</td>\n",
       "    </tr>\n",
       "    <tr>\n",
       "      <th>mean</th>\n",
       "      <td>67.191281</td>\n",
       "      <td>16.184407</td>\n",
       "      <td>52.714605</td>\n",
       "      <td>10.460376</td>\n",
       "      <td>10.236605</td>\n",
       "      <td>10.362160</td>\n",
       "      <td>10.802736</td>\n",
       "      <td>2.871644</td>\n",
       "      <td>0.091883</td>\n",
       "      <td>0.070086</td>\n",
       "      <td>0.214393</td>\n",
       "      <td>0.039083</td>\n",
       "      <td>0.154265</td>\n",
       "      <td>0.133408</td>\n",
       "      <td>0.041338</td>\n",
       "      <td>0.034949</td>\n",
       "      <td>0.150883</td>\n",
       "    </tr>\n",
       "    <tr>\n",
       "      <th>std</th>\n",
       "      <td>39.610145</td>\n",
       "      <td>6.950643</td>\n",
       "      <td>24.589749</td>\n",
       "      <td>0.781704</td>\n",
       "      <td>0.454538</td>\n",
       "      <td>0.988507</td>\n",
       "      <td>0.911089</td>\n",
       "      <td>2.120833</td>\n",
       "      <td>0.288888</td>\n",
       "      <td>0.255317</td>\n",
       "      <td>0.410439</td>\n",
       "      <td>0.193811</td>\n",
       "      <td>0.361237</td>\n",
       "      <td>0.340048</td>\n",
       "      <td>0.199089</td>\n",
       "      <td>0.183669</td>\n",
       "      <td>0.357969</td>\n",
       "    </tr>\n",
       "    <tr>\n",
       "      <th>min</th>\n",
       "      <td>0.000000</td>\n",
       "      <td>2.978526</td>\n",
       "      <td>16.470771</td>\n",
       "      <td>8.000000</td>\n",
       "      <td>9.909891</td>\n",
       "      <td>7.291151</td>\n",
       "      <td>9.178588</td>\n",
       "      <td>0.252066</td>\n",
       "      <td>0.000000</td>\n",
       "      <td>0.000000</td>\n",
       "      <td>0.000000</td>\n",
       "      <td>0.000000</td>\n",
       "      <td>0.000000</td>\n",
       "      <td>0.000000</td>\n",
       "      <td>0.000000</td>\n",
       "      <td>0.000000</td>\n",
       "      <td>0.000000</td>\n",
       "    </tr>\n",
       "    <tr>\n",
       "      <th>25%</th>\n",
       "      <td>39.000000</td>\n",
       "      <td>10.931264</td>\n",
       "      <td>33.892015</td>\n",
       "      <td>10.000000</td>\n",
       "      <td>9.997848</td>\n",
       "      <td>9.635023</td>\n",
       "      <td>10.127249</td>\n",
       "      <td>1.268516</td>\n",
       "      <td>0.000000</td>\n",
       "      <td>0.000000</td>\n",
       "      <td>0.000000</td>\n",
       "      <td>0.000000</td>\n",
       "      <td>0.000000</td>\n",
       "      <td>0.000000</td>\n",
       "      <td>0.000000</td>\n",
       "      <td>0.000000</td>\n",
       "      <td>0.000000</td>\n",
       "    </tr>\n",
       "    <tr>\n",
       "      <th>50%</th>\n",
       "      <td>84.000000</td>\n",
       "      <td>14.842876</td>\n",
       "      <td>47.273752</td>\n",
       "      <td>10.206243</td>\n",
       "      <td>10.066470</td>\n",
       "      <td>10.454214</td>\n",
       "      <td>10.639629</td>\n",
       "      <td>2.043793</td>\n",
       "      <td>0.000000</td>\n",
       "      <td>0.000000</td>\n",
       "      <td>0.000000</td>\n",
       "      <td>0.000000</td>\n",
       "      <td>0.000000</td>\n",
       "      <td>0.000000</td>\n",
       "      <td>0.000000</td>\n",
       "      <td>0.000000</td>\n",
       "      <td>0.000000</td>\n",
       "    </tr>\n",
       "    <tr>\n",
       "      <th>75%</th>\n",
       "      <td>99.000000</td>\n",
       "      <td>20.427898</td>\n",
       "      <td>65.945047</td>\n",
       "      <td>11.000000</td>\n",
       "      <td>10.233255</td>\n",
       "      <td>10.891589</td>\n",
       "      <td>11.260191</td>\n",
       "      <td>3.851824</td>\n",
       "      <td>0.000000</td>\n",
       "      <td>0.000000</td>\n",
       "      <td>0.000000</td>\n",
       "      <td>0.000000</td>\n",
       "      <td>0.000000</td>\n",
       "      <td>0.000000</td>\n",
       "      <td>0.000000</td>\n",
       "      <td>0.000000</td>\n",
       "      <td>0.000000</td>\n",
       "    </tr>\n",
       "    <tr>\n",
       "      <th>max</th>\n",
       "      <td>126.000000</td>\n",
       "      <td>37.824698</td>\n",
       "      <td>131.489297</td>\n",
       "      <td>12.000000</td>\n",
       "      <td>12.371005</td>\n",
       "      <td>12.825198</td>\n",
       "      <td>14.018766</td>\n",
       "      <td>10.732107</td>\n",
       "      <td>1.000000</td>\n",
       "      <td>1.000000</td>\n",
       "      <td>1.000000</td>\n",
       "      <td>1.000000</td>\n",
       "      <td>1.000000</td>\n",
       "      <td>1.000000</td>\n",
       "      <td>1.000000</td>\n",
       "      <td>1.000000</td>\n",
       "      <td>1.000000</td>\n",
       "    </tr>\n",
       "  </tbody>\n",
       "</table>\n",
       "</div>"
      ],
      "text/plain": [
       "         peakCount  Z_breathRate  Z_heartRate   Z_skinTemp       SW_GSR  \\\n",
       "count  5322.000000   5322.000000  5322.000000  5322.000000  5322.000000   \n",
       "mean     67.191281     16.184407    52.714605    10.460376    10.236605   \n",
       "std      39.610145      6.950643    24.589749     0.781704     0.454538   \n",
       "min       0.000000      2.978526    16.470771     8.000000     9.909891   \n",
       "25%      39.000000     10.931264    33.892015    10.000000     9.997848   \n",
       "50%      84.000000     14.842876    47.273752    10.206243    10.066470   \n",
       "75%      99.000000     20.427898    65.945047    11.000000    10.233255   \n",
       "max     126.000000     37.824698   131.489297    12.000000    12.371005   \n",
       "\n",
       "       SW_NearBodyTemp  SW_skinTemp       cosmed      cycling     kneeling  \\\n",
       "count      5322.000000  5322.000000  5322.000000  5322.000000  5322.000000   \n",
       "mean         10.362160    10.802736     2.871644     0.091883     0.070086   \n",
       "std           0.988507     0.911089     2.120833     0.288888     0.255317   \n",
       "min           7.291151     9.178588     0.252066     0.000000     0.000000   \n",
       "25%           9.635023    10.127249     1.268516     0.000000     0.000000   \n",
       "50%          10.454214    10.639629     2.043793     0.000000     0.000000   \n",
       "75%          10.891589    11.260191     3.851824     0.000000     0.000000   \n",
       "max          12.825198    14.018766    10.732107     1.000000     1.000000   \n",
       "\n",
       "             lying      running      sitting     standing  standing_leaning  \\\n",
       "count  5322.000000  5322.000000  5322.000000  5322.000000       5322.000000   \n",
       "mean      0.214393     0.039083     0.154265     0.133408          0.041338   \n",
       "std       0.410439     0.193811     0.361237     0.340048          0.199089   \n",
       "min       0.000000     0.000000     0.000000     0.000000          0.000000   \n",
       "25%       0.000000     0.000000     0.000000     0.000000          0.000000   \n",
       "50%       0.000000     0.000000     0.000000     0.000000          0.000000   \n",
       "75%       0.000000     0.000000     0.000000     0.000000          0.000000   \n",
       "max       1.000000     1.000000     1.000000     1.000000          1.000000   \n",
       "\n",
       "        transition      walking  \n",
       "count  5322.000000  5322.000000  \n",
       "mean      0.034949     0.150883  \n",
       "std       0.183669     0.357969  \n",
       "min       0.000000     0.000000  \n",
       "25%       0.000000     0.000000  \n",
       "50%       0.000000     0.000000  \n",
       "75%       0.000000     0.000000  \n",
       "max       1.000000     1.000000  "
      ]
     },
     "execution_count": 13,
     "metadata": {},
     "output_type": "execute_result"
    }
   ],
   "source": [
    "df.describe()"
   ]
  },
  {
   "cell_type": "code",
   "execution_count": 14,
   "metadata": {},
   "outputs": [],
   "source": [
    "a = df[[\"peakCount\",\"Z_breathRate\",\"Z_heartRate\",\"Z_skinTemp\",\"cycling\",\"kneeling\",\"lying\",\"running\",\"sitting\",\"standing\",\"standing_leaning\",\"transition\",\"walking\"]]\n",
    "#taking datas except the one we will get with regression, cosmed."
   ]
  },
  {
   "cell_type": "code",
   "execution_count": 15,
   "metadata": {},
   "outputs": [],
   "source": [
    "x_train, x_test, y_train, y_test = train_test_split(a, df[\"cosmed\"], test_size=0.33)\n",
    "#we can change test_size due to project requirements, also random_state=(int) can be added for multiwork"
   ]
  },
  {
   "cell_type": "code",
   "execution_count": 16,
   "metadata": {
    "scrolled": false
   },
   "outputs": [
    {
     "data": {
      "text/html": [
       "<div>\n",
       "<style scoped>\n",
       "    .dataframe tbody tr th:only-of-type {\n",
       "        vertical-align: middle;\n",
       "    }\n",
       "\n",
       "    .dataframe tbody tr th {\n",
       "        vertical-align: top;\n",
       "    }\n",
       "\n",
       "    .dataframe thead th {\n",
       "        text-align: right;\n",
       "    }\n",
       "</style>\n",
       "<table border=\"1\" class=\"dataframe\">\n",
       "  <thead>\n",
       "    <tr style=\"text-align: right;\">\n",
       "      <th></th>\n",
       "      <th>peakCount</th>\n",
       "      <th>Z_breathRate</th>\n",
       "      <th>Z_heartRate</th>\n",
       "      <th>Z_skinTemp</th>\n",
       "      <th>cycling</th>\n",
       "      <th>kneeling</th>\n",
       "      <th>lying</th>\n",
       "      <th>running</th>\n",
       "      <th>sitting</th>\n",
       "      <th>standing</th>\n",
       "      <th>standing_leaning</th>\n",
       "      <th>transition</th>\n",
       "      <th>walking</th>\n",
       "    </tr>\n",
       "  </thead>\n",
       "  <tbody>\n",
       "    <tr>\n",
       "      <th>122</th>\n",
       "      <td>113.0</td>\n",
       "      <td>13.147652</td>\n",
       "      <td>61.527237</td>\n",
       "      <td>11.000000</td>\n",
       "      <td>0</td>\n",
       "      <td>0</td>\n",
       "      <td>0</td>\n",
       "      <td>0</td>\n",
       "      <td>1</td>\n",
       "      <td>0</td>\n",
       "      <td>0</td>\n",
       "      <td>0</td>\n",
       "      <td>0</td>\n",
       "    </tr>\n",
       "    <tr>\n",
       "      <th>2082</th>\n",
       "      <td>42.0</td>\n",
       "      <td>16.206171</td>\n",
       "      <td>41.236200</td>\n",
       "      <td>10.721663</td>\n",
       "      <td>0</td>\n",
       "      <td>0</td>\n",
       "      <td>1</td>\n",
       "      <td>0</td>\n",
       "      <td>0</td>\n",
       "      <td>0</td>\n",
       "      <td>0</td>\n",
       "      <td>0</td>\n",
       "      <td>0</td>\n",
       "    </tr>\n",
       "    <tr>\n",
       "      <th>1826</th>\n",
       "      <td>101.0</td>\n",
       "      <td>18.473745</td>\n",
       "      <td>34.833753</td>\n",
       "      <td>11.721663</td>\n",
       "      <td>0</td>\n",
       "      <td>1</td>\n",
       "      <td>0</td>\n",
       "      <td>0</td>\n",
       "      <td>0</td>\n",
       "      <td>0</td>\n",
       "      <td>0</td>\n",
       "      <td>0</td>\n",
       "      <td>0</td>\n",
       "    </tr>\n",
       "    <tr>\n",
       "      <th>1332</th>\n",
       "      <td>8.0</td>\n",
       "      <td>9.843646</td>\n",
       "      <td>18.000000</td>\n",
       "      <td>10.000000</td>\n",
       "      <td>0</td>\n",
       "      <td>0</td>\n",
       "      <td>1</td>\n",
       "      <td>0</td>\n",
       "      <td>0</td>\n",
       "      <td>0</td>\n",
       "      <td>0</td>\n",
       "      <td>0</td>\n",
       "      <td>0</td>\n",
       "    </tr>\n",
       "    <tr>\n",
       "      <th>3318</th>\n",
       "      <td>84.0</td>\n",
       "      <td>17.388034</td>\n",
       "      <td>39.489433</td>\n",
       "      <td>10.000000</td>\n",
       "      <td>0</td>\n",
       "      <td>0</td>\n",
       "      <td>0</td>\n",
       "      <td>0</td>\n",
       "      <td>0</td>\n",
       "      <td>1</td>\n",
       "      <td>0</td>\n",
       "      <td>0</td>\n",
       "      <td>0</td>\n",
       "    </tr>\n",
       "    <tr>\n",
       "      <th>...</th>\n",
       "      <td>...</td>\n",
       "      <td>...</td>\n",
       "      <td>...</td>\n",
       "      <td>...</td>\n",
       "      <td>...</td>\n",
       "      <td>...</td>\n",
       "      <td>...</td>\n",
       "      <td>...</td>\n",
       "      <td>...</td>\n",
       "      <td>...</td>\n",
       "      <td>...</td>\n",
       "      <td>...</td>\n",
       "      <td>...</td>\n",
       "    </tr>\n",
       "    <tr>\n",
       "      <th>3079</th>\n",
       "      <td>0.0</td>\n",
       "      <td>10.219275</td>\n",
       "      <td>28.644618</td>\n",
       "      <td>11.000000</td>\n",
       "      <td>0</td>\n",
       "      <td>0</td>\n",
       "      <td>1</td>\n",
       "      <td>0</td>\n",
       "      <td>0</td>\n",
       "      <td>0</td>\n",
       "      <td>0</td>\n",
       "      <td>0</td>\n",
       "      <td>0</td>\n",
       "    </tr>\n",
       "    <tr>\n",
       "      <th>3192</th>\n",
       "      <td>102.0</td>\n",
       "      <td>12.035416</td>\n",
       "      <td>31.872090</td>\n",
       "      <td>10.002198</td>\n",
       "      <td>0</td>\n",
       "      <td>1</td>\n",
       "      <td>0</td>\n",
       "      <td>0</td>\n",
       "      <td>0</td>\n",
       "      <td>0</td>\n",
       "      <td>0</td>\n",
       "      <td>0</td>\n",
       "      <td>0</td>\n",
       "    </tr>\n",
       "    <tr>\n",
       "      <th>1663</th>\n",
       "      <td>0.0</td>\n",
       "      <td>10.748121</td>\n",
       "      <td>29.857516</td>\n",
       "      <td>9.721663</td>\n",
       "      <td>0</td>\n",
       "      <td>0</td>\n",
       "      <td>1</td>\n",
       "      <td>0</td>\n",
       "      <td>0</td>\n",
       "      <td>0</td>\n",
       "      <td>0</td>\n",
       "      <td>0</td>\n",
       "      <td>0</td>\n",
       "    </tr>\n",
       "    <tr>\n",
       "      <th>685</th>\n",
       "      <td>96.0</td>\n",
       "      <td>11.767304</td>\n",
       "      <td>42.717837</td>\n",
       "      <td>10.206243</td>\n",
       "      <td>0</td>\n",
       "      <td>0</td>\n",
       "      <td>0</td>\n",
       "      <td>0</td>\n",
       "      <td>0</td>\n",
       "      <td>1</td>\n",
       "      <td>0</td>\n",
       "      <td>0</td>\n",
       "      <td>0</td>\n",
       "    </tr>\n",
       "    <tr>\n",
       "      <th>4363</th>\n",
       "      <td>49.0</td>\n",
       "      <td>11.911165</td>\n",
       "      <td>54.343659</td>\n",
       "      <td>10.000000</td>\n",
       "      <td>0</td>\n",
       "      <td>0</td>\n",
       "      <td>0</td>\n",
       "      <td>0</td>\n",
       "      <td>0</td>\n",
       "      <td>0</td>\n",
       "      <td>0</td>\n",
       "      <td>1</td>\n",
       "      <td>0</td>\n",
       "    </tr>\n",
       "  </tbody>\n",
       "</table>\n",
       "<p>3565 rows × 13 columns</p>\n",
       "</div>"
      ],
      "text/plain": [
       "      peakCount  Z_breathRate  Z_heartRate  Z_skinTemp  cycling  kneeling  \\\n",
       "122       113.0     13.147652    61.527237   11.000000        0         0   \n",
       "2082       42.0     16.206171    41.236200   10.721663        0         0   \n",
       "1826      101.0     18.473745    34.833753   11.721663        0         1   \n",
       "1332        8.0      9.843646    18.000000   10.000000        0         0   \n",
       "3318       84.0     17.388034    39.489433   10.000000        0         0   \n",
       "...         ...           ...          ...         ...      ...       ...   \n",
       "3079        0.0     10.219275    28.644618   11.000000        0         0   \n",
       "3192      102.0     12.035416    31.872090   10.002198        0         1   \n",
       "1663        0.0     10.748121    29.857516    9.721663        0         0   \n",
       "685        96.0     11.767304    42.717837   10.206243        0         0   \n",
       "4363       49.0     11.911165    54.343659   10.000000        0         0   \n",
       "\n",
       "      lying  running  sitting  standing  standing_leaning  transition  walking  \n",
       "122       0        0        1         0                 0           0        0  \n",
       "2082      1        0        0         0                 0           0        0  \n",
       "1826      0        0        0         0                 0           0        0  \n",
       "1332      1        0        0         0                 0           0        0  \n",
       "3318      0        0        0         1                 0           0        0  \n",
       "...     ...      ...      ...       ...               ...         ...      ...  \n",
       "3079      1        0        0         0                 0           0        0  \n",
       "3192      0        0        0         0                 0           0        0  \n",
       "1663      1        0        0         0                 0           0        0  \n",
       "685       0        0        0         1                 0           0        0  \n",
       "4363      0        0        0         0                 0           1        0  \n",
       "\n",
       "[3565 rows x 13 columns]"
      ]
     },
     "execution_count": 16,
     "metadata": {},
     "output_type": "execute_result"
    }
   ],
   "source": [
    "x_train"
   ]
  },
  {
   "cell_type": "code",
   "execution_count": 17,
   "metadata": {},
   "outputs": [
    {
     "data": {
      "text/html": [
       "<div>\n",
       "<style scoped>\n",
       "    .dataframe tbody tr th:only-of-type {\n",
       "        vertical-align: middle;\n",
       "    }\n",
       "\n",
       "    .dataframe tbody tr th {\n",
       "        vertical-align: top;\n",
       "    }\n",
       "\n",
       "    .dataframe thead th {\n",
       "        text-align: right;\n",
       "    }\n",
       "</style>\n",
       "<table border=\"1\" class=\"dataframe\">\n",
       "  <thead>\n",
       "    <tr style=\"text-align: right;\">\n",
       "      <th></th>\n",
       "      <th>peakCount</th>\n",
       "      <th>Z_breathRate</th>\n",
       "      <th>Z_heartRate</th>\n",
       "      <th>Z_skinTemp</th>\n",
       "      <th>cycling</th>\n",
       "      <th>kneeling</th>\n",
       "      <th>lying</th>\n",
       "      <th>running</th>\n",
       "      <th>sitting</th>\n",
       "      <th>standing</th>\n",
       "      <th>standing_leaning</th>\n",
       "      <th>transition</th>\n",
       "      <th>walking</th>\n",
       "    </tr>\n",
       "  </thead>\n",
       "  <tbody>\n",
       "    <tr>\n",
       "      <th>5103</th>\n",
       "      <td>98.0</td>\n",
       "      <td>19.460120</td>\n",
       "      <td>56.314732</td>\n",
       "      <td>10.000000</td>\n",
       "      <td>0</td>\n",
       "      <td>0</td>\n",
       "      <td>0</td>\n",
       "      <td>0</td>\n",
       "      <td>0</td>\n",
       "      <td>0</td>\n",
       "      <td>0</td>\n",
       "      <td>0</td>\n",
       "      <td>1</td>\n",
       "    </tr>\n",
       "    <tr>\n",
       "      <th>2561</th>\n",
       "      <td>0.0</td>\n",
       "      <td>9.378079</td>\n",
       "      <td>40.459292</td>\n",
       "      <td>11.000000</td>\n",
       "      <td>0</td>\n",
       "      <td>0</td>\n",
       "      <td>0</td>\n",
       "      <td>0</td>\n",
       "      <td>0</td>\n",
       "      <td>0</td>\n",
       "      <td>0</td>\n",
       "      <td>0</td>\n",
       "      <td>0</td>\n",
       "    </tr>\n",
       "    <tr>\n",
       "      <th>535</th>\n",
       "      <td>19.0</td>\n",
       "      <td>11.494352</td>\n",
       "      <td>26.447051</td>\n",
       "      <td>9.206243</td>\n",
       "      <td>0</td>\n",
       "      <td>0</td>\n",
       "      <td>1</td>\n",
       "      <td>0</td>\n",
       "      <td>0</td>\n",
       "      <td>0</td>\n",
       "      <td>0</td>\n",
       "      <td>0</td>\n",
       "      <td>0</td>\n",
       "    </tr>\n",
       "    <tr>\n",
       "      <th>2215</th>\n",
       "      <td>95.0</td>\n",
       "      <td>22.893257</td>\n",
       "      <td>53.274799</td>\n",
       "      <td>10.721663</td>\n",
       "      <td>0</td>\n",
       "      <td>0</td>\n",
       "      <td>0</td>\n",
       "      <td>0</td>\n",
       "      <td>0</td>\n",
       "      <td>0</td>\n",
       "      <td>0</td>\n",
       "      <td>0</td>\n",
       "      <td>1</td>\n",
       "    </tr>\n",
       "    <tr>\n",
       "      <th>1742</th>\n",
       "      <td>93.0</td>\n",
       "      <td>8.535356</td>\n",
       "      <td>34.138179</td>\n",
       "      <td>10.721663</td>\n",
       "      <td>0</td>\n",
       "      <td>0</td>\n",
       "      <td>0</td>\n",
       "      <td>0</td>\n",
       "      <td>1</td>\n",
       "      <td>0</td>\n",
       "      <td>0</td>\n",
       "      <td>0</td>\n",
       "      <td>0</td>\n",
       "    </tr>\n",
       "    <tr>\n",
       "      <th>...</th>\n",
       "      <td>...</td>\n",
       "      <td>...</td>\n",
       "      <td>...</td>\n",
       "      <td>...</td>\n",
       "      <td>...</td>\n",
       "      <td>...</td>\n",
       "      <td>...</td>\n",
       "      <td>...</td>\n",
       "      <td>...</td>\n",
       "      <td>...</td>\n",
       "      <td>...</td>\n",
       "      <td>...</td>\n",
       "      <td>...</td>\n",
       "    </tr>\n",
       "    <tr>\n",
       "      <th>3963</th>\n",
       "      <td>83.0</td>\n",
       "      <td>17.247295</td>\n",
       "      <td>18.000000</td>\n",
       "      <td>12.000000</td>\n",
       "      <td>0</td>\n",
       "      <td>0</td>\n",
       "      <td>0</td>\n",
       "      <td>0</td>\n",
       "      <td>1</td>\n",
       "      <td>0</td>\n",
       "      <td>0</td>\n",
       "      <td>0</td>\n",
       "      <td>0</td>\n",
       "    </tr>\n",
       "    <tr>\n",
       "      <th>699</th>\n",
       "      <td>97.0</td>\n",
       "      <td>13.233108</td>\n",
       "      <td>42.390713</td>\n",
       "      <td>10.206243</td>\n",
       "      <td>0</td>\n",
       "      <td>0</td>\n",
       "      <td>0</td>\n",
       "      <td>0</td>\n",
       "      <td>0</td>\n",
       "      <td>1</td>\n",
       "      <td>0</td>\n",
       "      <td>0</td>\n",
       "      <td>0</td>\n",
       "    </tr>\n",
       "    <tr>\n",
       "      <th>1048</th>\n",
       "      <td>81.0</td>\n",
       "      <td>19.491228</td>\n",
       "      <td>72.715344</td>\n",
       "      <td>9.206243</td>\n",
       "      <td>1</td>\n",
       "      <td>0</td>\n",
       "      <td>0</td>\n",
       "      <td>0</td>\n",
       "      <td>0</td>\n",
       "      <td>0</td>\n",
       "      <td>0</td>\n",
       "      <td>0</td>\n",
       "      <td>0</td>\n",
       "    </tr>\n",
       "    <tr>\n",
       "      <th>3592</th>\n",
       "      <td>73.0</td>\n",
       "      <td>23.726055</td>\n",
       "      <td>54.139327</td>\n",
       "      <td>10.000000</td>\n",
       "      <td>0</td>\n",
       "      <td>0</td>\n",
       "      <td>0</td>\n",
       "      <td>0</td>\n",
       "      <td>0</td>\n",
       "      <td>0</td>\n",
       "      <td>0</td>\n",
       "      <td>0</td>\n",
       "      <td>1</td>\n",
       "    </tr>\n",
       "    <tr>\n",
       "      <th>586</th>\n",
       "      <td>10.0</td>\n",
       "      <td>12.301863</td>\n",
       "      <td>34.532109</td>\n",
       "      <td>10.206243</td>\n",
       "      <td>0</td>\n",
       "      <td>0</td>\n",
       "      <td>1</td>\n",
       "      <td>0</td>\n",
       "      <td>0</td>\n",
       "      <td>0</td>\n",
       "      <td>0</td>\n",
       "      <td>0</td>\n",
       "      <td>0</td>\n",
       "    </tr>\n",
       "  </tbody>\n",
       "</table>\n",
       "<p>1757 rows × 13 columns</p>\n",
       "</div>"
      ],
      "text/plain": [
       "      peakCount  Z_breathRate  Z_heartRate  Z_skinTemp  cycling  kneeling  \\\n",
       "5103       98.0     19.460120    56.314732   10.000000        0         0   \n",
       "2561        0.0      9.378079    40.459292   11.000000        0         0   \n",
       "535        19.0     11.494352    26.447051    9.206243        0         0   \n",
       "2215       95.0     22.893257    53.274799   10.721663        0         0   \n",
       "1742       93.0      8.535356    34.138179   10.721663        0         0   \n",
       "...         ...           ...          ...         ...      ...       ...   \n",
       "3963       83.0     17.247295    18.000000   12.000000        0         0   \n",
       "699        97.0     13.233108    42.390713   10.206243        0         0   \n",
       "1048       81.0     19.491228    72.715344    9.206243        1         0   \n",
       "3592       73.0     23.726055    54.139327   10.000000        0         0   \n",
       "586        10.0     12.301863    34.532109   10.206243        0         0   \n",
       "\n",
       "      lying  running  sitting  standing  standing_leaning  transition  walking  \n",
       "5103      0        0        0         0                 0           0        1  \n",
       "2561      0        0        0         0                 0           0        0  \n",
       "535       1        0        0         0                 0           0        0  \n",
       "2215      0        0        0         0                 0           0        1  \n",
       "1742      0        0        1         0                 0           0        0  \n",
       "...     ...      ...      ...       ...               ...         ...      ...  \n",
       "3963      0        0        1         0                 0           0        0  \n",
       "699       0        0        0         1                 0           0        0  \n",
       "1048      0        0        0         0                 0           0        0  \n",
       "3592      0        0        0         0                 0           0        1  \n",
       "586       1        0        0         0                 0           0        0  \n",
       "\n",
       "[1757 rows x 13 columns]"
      ]
     },
     "execution_count": 17,
     "metadata": {},
     "output_type": "execute_result"
    }
   ],
   "source": [
    "x_test"
   ]
  },
  {
   "cell_type": "code",
   "execution_count": 18,
   "metadata": {},
   "outputs": [],
   "source": [
    "lm=LinearRegression()\n",
    "ran=RANSACRegressor()\n",
    "theil=TheilSenRegressor()\n",
    "#sgd=SGDRegressor()\n"
   ]
  },
  {
   "cell_type": "code",
   "execution_count": 19,
   "metadata": {},
   "outputs": [
    {
     "data": {
      "text/plain": [
       "LinearRegression()"
      ]
     },
     "execution_count": 19,
     "metadata": {},
     "output_type": "execute_result"
    }
   ],
   "source": [
    "lm.fit(x_train,y_train)"
   ]
  },
  {
   "cell_type": "code",
   "execution_count": 20,
   "metadata": {},
   "outputs": [
    {
     "data": {
      "text/plain": [
       "RANSACRegressor()"
      ]
     },
     "execution_count": 20,
     "metadata": {},
     "output_type": "execute_result"
    }
   ],
   "source": [
    "ran.fit(x_train, y_train)"
   ]
  },
  {
   "cell_type": "code",
   "execution_count": 21,
   "metadata": {},
   "outputs": [
    {
     "data": {
      "text/plain": [
       "TheilSenRegressor(max_subpopulation=10000)"
      ]
     },
     "execution_count": 21,
     "metadata": {},
     "output_type": "execute_result"
    }
   ],
   "source": [
    "theil.fit(x_train, y_train)"
   ]
  },
  {
   "cell_type": "code",
   "execution_count": 22,
   "metadata": {},
   "outputs": [],
   "source": [
    "#sgd.fit(x_train, y_train)"
   ]
  },
  {
   "cell_type": "code",
   "execution_count": 23,
   "metadata": {},
   "outputs": [],
   "source": [
    "predictlm=lm.predict(x_test)\n",
    "predictran=ran.predict(x_test)\n",
    "predicttheil=theil.predict(x_test)\n",
    "#predictsgd=sgd.predict(x_test)"
   ]
  },
  {
   "cell_type": "code",
   "execution_count": 24,
   "metadata": {},
   "outputs": [
    {
     "data": {
      "text/plain": [
       "<matplotlib.collections.PathCollection at 0x1aea72228b0>"
      ]
     },
     "execution_count": 24,
     "metadata": {},
     "output_type": "execute_result"
    },
    {
     "data": {
      "image/png": "[encoded data removed]",
      "text/plain": [
       "<Figure size 432x288 with 1 Axes>"
      ]
     },
     "metadata": {
      "needs_background": "light"
     },
     "output_type": "display_data"
    }
   ],
   "source": [
    "plt.scatter(y_test,predictlm)"
   ]
  },
  {
   "cell_type": "code",
   "execution_count": 25,
   "metadata": {},
   "outputs": [
    {
     "data": {
      "text/plain": [
       "<matplotlib.collections.PathCollection at 0x1aea2235520>"
      ]
     },
     "execution_count": 25,
     "metadata": {},
     "output_type": "execute_result"
    },
    {
     "data": {
      "image/png": "[encoded data removed]",
      "text/plain": [
       "<Figure size 432x288 with 1 Axes>"
      ]
     },
     "metadata": {
      "needs_background": "light"
     },
     "output_type": "display_data"
    }
   ],
   "source": [
    "plt.scatter(y_test,predictran)"
   ]
  },
  {
   "cell_type": "code",
   "execution_count": 26,
   "metadata": {},
   "outputs": [
    {
     "data": {
      "text/plain": [
       "<matplotlib.collections.PathCollection at 0x1aea822adc0>"
      ]
     },
     "execution_count": 26,
     "metadata": {},
     "output_type": "execute_result"
    },
    {
     "data": {
      "image/png": "[encoded data removed]",
      "text/plain": [
       "<Figure size 432x288 with 1 Axes>"
      ]
     },
     "metadata": {
      "needs_background": "light"
     },
     "output_type": "display_data"
    }
   ],
   "source": [
    "plt.scatter(y_test,predicttheil)"
   ]
  },
  {
   "cell_type": "code",
   "execution_count": 27,
   "metadata": {},
   "outputs": [],
   "source": [
    "#plt.scatter(y_test,predictsgd)"
   ]
  },
  {
   "cell_type": "code",
   "execution_count": 28,
   "metadata": {},
   "outputs": [
    {
     "name": "stderr",
     "output_type": "stream",
     "text": [
      "C:\\Users\\BahaD\\anaconda3\\lib\\site-packages\\seaborn\\distributions.py:2551: FutureWarning: `distplot` is a deprecated function and will be removed in a future version. Please adapt your code to use either `displot` (a figure-level function with similar flexibility) or `histplot` (an axes-level function for histograms).\n",
      "  warnings.warn(msg, FutureWarning)\n"
     ]
    },
    {
     "data": {
      "text/plain": [
       "<AxesSubplot:xlabel='cosmed', ylabel='Density'>"
      ]
     },
     "execution_count": 28,
     "metadata": {},
     "output_type": "execute_result"
    },
    {
     "data": {
      "image/png": "[encoded data removed]",
      "text/plain": [
       "<Figure size 432x288 with 1 Axes>"
      ]
     },
     "metadata": {
      "needs_background": "light"
     },
     "output_type": "display_data"
    }
   ],
   "source": [
    "sns.distplot((y_test-predictlm))\n",
    "#shows that predict is very good but its not a perf metric"
   ]
  },
  {
   "cell_type": "code",
   "execution_count": 29,
   "metadata": {},
   "outputs": [
    {
     "name": "stderr",
     "output_type": "stream",
     "text": [
      "C:\\Users\\BahaD\\anaconda3\\lib\\site-packages\\seaborn\\distributions.py:2551: FutureWarning: `distplot` is a deprecated function and will be removed in a future version. Please adapt your code to use either `displot` (a figure-level function with similar flexibility) or `histplot` (an axes-level function for histograms).\n",
      "  warnings.warn(msg, FutureWarning)\n"
     ]
    },
    {
     "data": {
      "text/plain": [
       "<AxesSubplot:xlabel='cosmed', ylabel='Density'>"
      ]
     },
     "execution_count": 29,
     "metadata": {},
     "output_type": "execute_result"
    },
    {
     "data": {
      "image/png": "[encoded data removed]",
      "text/plain": [
       "<Figure size 432x288 with 1 Axes>"
      ]
     },
     "metadata": {
      "needs_background": "light"
     },
     "output_type": "display_data"
    }
   ],
   "source": [
    "sns.distplot((y_test-predictran))"
   ]
  },
  {
   "cell_type": "code",
   "execution_count": 30,
   "metadata": {},
   "outputs": [
    {
     "name": "stderr",
     "output_type": "stream",
     "text": [
      "C:\\Users\\BahaD\\anaconda3\\lib\\site-packages\\seaborn\\distributions.py:2551: FutureWarning: `distplot` is a deprecated function and will be removed in a future version. Please adapt your code to use either `displot` (a figure-level function with similar flexibility) or `histplot` (an axes-level function for histograms).\n",
      "  warnings.warn(msg, FutureWarning)\n"
     ]
    },
    {
     "data": {
      "text/plain": [
       "<AxesSubplot:xlabel='cosmed', ylabel='Density'>"
      ]
     },
     "execution_count": 30,
     "metadata": {},
     "output_type": "execute_result"
    },
    {
     "data": {
      "image/png": "[encoded data removed]",
      "text/plain": [
       "<Figure size 432x288 with 1 Axes>"
      ]
     },
     "metadata": {
      "needs_background": "light"
     },
     "output_type": "display_data"
    }
   ],
   "source": [
    "sns.distplot((y_test-predicttheil))"
   ]
  },
  {
   "cell_type": "code",
   "execution_count": 31,
   "metadata": {},
   "outputs": [],
   "source": [
    "#sns.distplot((y_test-predictsgd))"
   ]
  },
  {
   "cell_type": "code",
   "execution_count": 32,
   "metadata": {
    "scrolled": false
   },
   "outputs": [
    {
     "data": {
      "image/png": "[encoded data removed]",
      "text/plain": [
       "<Figure size 2160x864 with 2 Axes>"
      ]
     },
     "metadata": {
      "needs_background": "light"
     },
     "output_type": "display_data"
    }
   ],
   "source": [
    "import matplotlib.pyplot as plt\n",
    "import seaborn as sns\n",
    "plt.figure(figsize=(30,12))\n",
    "corr_map = sns.heatmap(df.corr(),annot=True)\n",
    "\n",
    "#df.corr()\n",
    "#corr matrix. +1 show that they are parallel datas but might not show causality"
   ]
  },
  {
   "cell_type": "code",
   "execution_count": 33,
   "metadata": {},
   "outputs": [
    {
     "data": {
      "text/plain": [
       "Index                 128\n",
       "peakCount           42576\n",
       "Z_breathRate        42576\n",
       "Z_heartRate         42576\n",
       "Z_skinTemp          42576\n",
       "SW_GSR              42576\n",
       "SW_NearBodyTemp     42576\n",
       "SW_skinTemp         42576\n",
       "cosmed              42576\n",
       "cycling              5322\n",
       "kneeling             5322\n",
       "lying                5322\n",
       "running              5322\n",
       "sitting              5322\n",
       "standing             5322\n",
       "standing_leaning     5322\n",
       "transition           5322\n",
       "walking              5322\n",
       "dtype: int64"
      ]
     },
     "execution_count": 33,
     "metadata": {},
     "output_type": "execute_result"
    }
   ],
   "source": [
    "df.memory_usage(deep=True)\n",
    "#be sure that there is not and wont be any memory problem"
   ]
  },
  {
   "cell_type": "code",
   "execution_count": 34,
   "metadata": {},
   "outputs": [
    {
     "data": {
      "text/plain": [
       "0.6973734879688431"
      ]
     },
     "execution_count": 34,
     "metadata": {},
     "output_type": "execute_result"
    }
   ],
   "source": [
    "metrics.mean_absolute_error(y_test,predictlm)"
   ]
  },
  {
   "cell_type": "code",
   "execution_count": 35,
   "metadata": {},
   "outputs": [
    {
     "data": {
      "text/plain": [
       "0.76636384402989"
      ]
     },
     "execution_count": 35,
     "metadata": {},
     "output_type": "execute_result"
    }
   ],
   "source": [
    "metrics.mean_absolute_error(y_test,predictran)"
   ]
  },
  {
   "cell_type": "code",
   "execution_count": 36,
   "metadata": {},
   "outputs": [
    {
     "data": {
      "text/plain": [
       "0.747424590620317"
      ]
     },
     "execution_count": 36,
     "metadata": {},
     "output_type": "execute_result"
    }
   ],
   "source": [
    "metrics.mean_absolute_error(y_test,predicttheil)"
   ]
  },
  {
   "cell_type": "code",
   "execution_count": 37,
   "metadata": {},
   "outputs": [],
   "source": [
    "#metrics.mean_absolute_error(y_test,predictsgd)"
   ]
  },
  {
   "cell_type": "code",
   "execution_count": 38,
   "metadata": {
    "scrolled": false
   },
   "outputs": [
    {
     "data": {
      "text/plain": [
       "count    5322.000000\n",
       "mean        2.871644\n",
       "std         2.120833\n",
       "min         0.252066\n",
       "25%         1.268516\n",
       "50%         2.043793\n",
       "75%         3.851824\n",
       "max        10.732107\n",
       "Name: cosmed, dtype: float64"
      ]
     },
     "execution_count": 38,
     "metadata": {},
     "output_type": "execute_result"
    }
   ],
   "source": [
    "df.cosmed.describe()"
   ]
  },
  {
   "cell_type": "code",
   "execution_count": 39,
   "metadata": {},
   "outputs": [
    {
     "data": {
      "text/plain": [
       "0.8695443514724247"
      ]
     },
     "execution_count": 39,
     "metadata": {},
     "output_type": "execute_result"
    }
   ],
   "source": [
    "metrics.mean_squared_error(y_test, predictlm)"
   ]
  },
  {
   "cell_type": "code",
   "execution_count": 40,
   "metadata": {},
   "outputs": [
    {
     "data": {
      "text/plain": [
       "1.1190319237548496"
      ]
     },
     "execution_count": 40,
     "metadata": {},
     "output_type": "execute_result"
    }
   ],
   "source": [
    "metrics.mean_squared_error(y_test, predictran)"
   ]
  },
  {
   "cell_type": "code",
   "execution_count": 41,
   "metadata": {},
   "outputs": [
    {
     "data": {
      "text/plain": [
       "1.0048814501291858"
      ]
     },
     "execution_count": 41,
     "metadata": {},
     "output_type": "execute_result"
    }
   ],
   "source": [
    "metrics.mean_squared_error(y_test, predicttheil)"
   ]
  },
  {
   "cell_type": "code",
   "execution_count": 42,
   "metadata": {},
   "outputs": [
    {
     "data": {
      "text/plain": [
       "0.932493620070628"
      ]
     },
     "execution_count": 42,
     "metadata": {},
     "output_type": "execute_result"
    }
   ],
   "source": [
    "np.sqrt(metrics.mean_squared_error(y_test,predictlm))"
   ]
  },
  {
   "cell_type": "code",
   "execution_count": 43,
   "metadata": {},
   "outputs": [
    {
     "data": {
      "text/plain": [
       "1.057843052515282"
      ]
     },
     "execution_count": 43,
     "metadata": {},
     "output_type": "execute_result"
    }
   ],
   "source": [
    "np.sqrt(metrics.mean_squared_error(y_test,predictran))"
   ]
  },
  {
   "cell_type": "code",
   "execution_count": 44,
   "metadata": {},
   "outputs": [
    {
     "data": {
      "text/plain": [
       "1.0024377537429374"
      ]
     },
     "execution_count": 44,
     "metadata": {},
     "output_type": "execute_result"
    }
   ],
   "source": [
    "np.sqrt(metrics.mean_squared_error(y_test,predicttheil))"
   ]
  },
  {
   "cell_type": "code",
   "execution_count": 45,
   "metadata": {},
   "outputs": [
    {
     "data": {
      "text/plain": [
       "0.8120326698098572"
      ]
     },
     "execution_count": 45,
     "metadata": {},
     "output_type": "execute_result"
    }
   ],
   "source": [
    "metrics.r2_score(y_test, predictlm)"
   ]
  },
  {
   "cell_type": "code",
   "execution_count": 46,
   "metadata": {},
   "outputs": [
    {
     "data": {
      "text/plain": [
       "0.7581015358796119"
      ]
     },
     "execution_count": 46,
     "metadata": {},
     "output_type": "execute_result"
    }
   ],
   "source": [
    "metrics.r2_score(y_test, predictran)"
   ]
  },
  {
   "cell_type": "code",
   "execution_count": 47,
   "metadata": {},
   "outputs": [
    {
     "data": {
      "text/plain": [
       "0.7827771717238599"
      ]
     },
     "execution_count": 47,
     "metadata": {},
     "output_type": "execute_result"
    }
   ],
   "source": [
    "metrics.r2_score(y_test, predicttheil)"
   ]
  },
  {
   "cell_type": "code",
   "execution_count": 48,
   "metadata": {},
   "outputs": [],
   "source": [
    "#metrics.r2_score(y_test, predictsgd)"
   ]
  },
  {
   "cell_type": "code",
   "execution_count": 49,
   "metadata": {},
   "outputs": [
    {
     "data": {
      "text/plain": [
       "5103    2.857101\n",
       "2561    1.741393\n",
       "535     1.555140\n",
       "2215    2.050550\n",
       "1742    1.379332\n",
       "          ...   \n",
       "3963    0.949089\n",
       "699     1.816757\n",
       "1048    4.991076\n",
       "3592    4.108389\n",
       "586     1.603498\n",
       "Name: cosmed, Length: 1757, dtype: float64"
      ]
     },
     "execution_count": 49,
     "metadata": {},
     "output_type": "execute_result"
    }
   ],
   "source": [
    "y_test"
   ]
  },
  {
   "cell_type": "code",
   "execution_count": null,
   "metadata": {},
   "outputs": [],
   "source": []
  }
 ],
 "metadata": {
  "kernelspec": {
   "display_name": "Python 3",
   "language": "python",
   "name": "python3"
  },
  "language_info": {
   "codemirror_mode": {
    "name": "ipython",
    "version": 3
   },
   "file_extension": ".py",
   "mimetype": "text/x-python",
   "name": "python",
   "nbconvert_exporter": "python",
   "pygments_lexer": "ipython3",
   "version": "3.8.5"
  }
 },
 "nbformat": 4,
 "nbformat_minor": 4
}
